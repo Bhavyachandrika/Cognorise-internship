{
 "cells": [
  {
   "cell_type": "markdown",
   "id": "1ef160ea",
   "metadata": {},
   "source": [
    "# BREAST CANCER CLASSSIFICATION"
   ]
  },
  {
   "cell_type": "code",
   "execution_count": null,
   "id": "67ef492f",
   "metadata": {},
   "outputs": [],
   "source": [
    "import pandas as pd\n",
    "from sklearn.model_selection import train_test_split\n",
    "from sklearn.preprocessing import StandardScaler, LabelEncoder\n",
    "from sklearn.neighbors import KNeighborsClassifier\n",
    "from sklearn.ensemble import RandomForestClassifier\n",
    "from sklearn.linear_model import LogisticRegression, LinearRegression\n",
    "from sklearn.tree import DecisionTreeClassifier\n",
    "from sklearn.metrics import accuracy_score, classification_report\n"
   ]
  },
  {
   "cell_type": "code",
   "execution_count": 7,
   "id": "88307839",
   "metadata": {},
   "outputs": [],
   "source": [
    "# Load the dataset\n",
    "file_path = '/home/rguktongole/Downloads/data.csv'\n",
    "data = pd.read_csv(file_path)"
   ]
  },
  {
   "cell_type": "code",
   "execution_count": 8,
   "id": "13036cd6",
   "metadata": {},
   "outputs": [],
   "source": [
    "# Drop unnecessary columns\n",
    "data = data.drop(['id', 'Unnamed: 32'], axis=1)"
   ]
  },
  {
   "cell_type": "code",
   "execution_count": 9,
   "id": "477078c6",
   "metadata": {},
   "outputs": [],
   "source": [
    "# Encode the target variable\n",
    "label_encoder = LabelEncoder()\n",
    "data['diagnosis'] = label_encoder.fit_transform(data['diagnosis'])"
   ]
  },
  {
   "cell_type": "code",
   "execution_count": 10,
   "id": "a94a47d9",
   "metadata": {},
   "outputs": [],
   "source": [
    "# Split the data into features and target variable\n",
    "X = data.drop('diagnosis', axis=1)\n",
    "y = data['diagnosis']"
   ]
  },
  {
   "cell_type": "code",
   "execution_count": 11,
   "id": "c82f662c",
   "metadata": {},
   "outputs": [],
   "source": [
    "# Split the data into training and testing sets\n",
    "X_train, X_test, y_train, y_test = train_test_split(X, y, test_size=0.2, random_state=42)\n"
   ]
  },
  {
   "cell_type": "code",
   "execution_count": 12,
   "id": "2f81bf72",
   "metadata": {},
   "outputs": [],
   "source": [
    "# Standardize the feature variables\n",
    "scaler = StandardScaler()\n",
    "X_train = scaler.fit_transform(X_train)\n",
    "X_test = scaler.transform(X_test)\n"
   ]
  },
  {
   "cell_type": "code",
   "execution_count": 13,
   "id": "7520fa69",
   "metadata": {},
   "outputs": [],
   "source": [
    "# Define a function to evaluate models\n",
    "def evaluate_model(model):\n",
    "    model.fit(X_train, y_train)\n",
    "    y_pred = model.predict(X_test)\n",
    "    accuracy = accuracy_score(y_test, y_pred)\n",
    "    report = classification_report(y_test, y_pred)\n",
    "    return accuracy, report"
   ]
  },
  {
   "cell_type": "code",
   "execution_count": 14,
   "id": "3b7f9249",
   "metadata": {},
   "outputs": [],
   "source": [
    "# Initialize models\n",
    "knn = KNeighborsClassifier()\n",
    "rf = RandomForestClassifier(random_state=42)\n",
    "log_reg = LogisticRegression(max_iter=10000, random_state=42)\n",
    "dt = DecisionTreeClassifier(random_state=42)\n",
    "lin_reg = LinearRegression()\n"
   ]
  },
  {
   "cell_type": "code",
   "execution_count": 15,
   "id": "7f81c3a4",
   "metadata": {},
   "outputs": [],
   "source": [
    "# Evaluate models\n",
    "models = {'K-Nearest Neighbors': knn, 'Random Forest': rf, 'Logistic Regression': log_reg, 'Decision Tree': dt}\n"
   ]
  },
  {
   "cell_type": "code",
   "execution_count": 16,
   "id": "3530db25",
   "metadata": {},
   "outputs": [],
   "source": [
    "results = {}\n",
    "for name, model in models.items():\n",
    "    accuracy, report = evaluate_model(model)\n",
    "    results[name] = {'Accuracy': accuracy, 'Report': report}\n"
   ]
  },
  {
   "cell_type": "code",
   "execution_count": 17,
   "id": "cbcb6db7",
   "metadata": {},
   "outputs": [
    {
     "data": {
      "text/plain": [
       "{'K-Nearest Neighbors': {'Accuracy': 0.9473684210526315,\n",
       "  'Report': '              precision    recall  f1-score   support\\n\\n           0       0.96      0.96      0.96        71\\n           1       0.93      0.93      0.93        43\\n\\n    accuracy                           0.95       114\\n   macro avg       0.94      0.94      0.94       114\\nweighted avg       0.95      0.95      0.95       114\\n'},\n",
       " 'Random Forest': {'Accuracy': 0.9649122807017544,\n",
       "  'Report': '              precision    recall  f1-score   support\\n\\n           0       0.96      0.99      0.97        71\\n           1       0.98      0.93      0.95        43\\n\\n    accuracy                           0.96       114\\n   macro avg       0.97      0.96      0.96       114\\nweighted avg       0.97      0.96      0.96       114\\n'},\n",
       " 'Logistic Regression': {'Accuracy': 0.9736842105263158,\n",
       "  'Report': '              precision    recall  f1-score   support\\n\\n           0       0.97      0.99      0.98        71\\n           1       0.98      0.95      0.96        43\\n\\n    accuracy                           0.97       114\\n   macro avg       0.97      0.97      0.97       114\\nweighted avg       0.97      0.97      0.97       114\\n'},\n",
       " 'Decision Tree': {'Accuracy': 0.9473684210526315,\n",
       "  'Report': '              precision    recall  f1-score   support\\n\\n           0       0.96      0.96      0.96        71\\n           1       0.93      0.93      0.93        43\\n\\n    accuracy                           0.95       114\\n   macro avg       0.94      0.94      0.94       114\\nweighted avg       0.95      0.95      0.95       114\\n'},\n",
       " 'Linear Regression': {'Accuracy': 0.956140350877193,\n",
       "  'Report': '              precision    recall  f1-score   support\\n\\n           0       0.95      0.99      0.97        71\\n           1       0.97      0.91      0.94        43\\n\\n    accuracy                           0.96       114\\n   macro avg       0.96      0.95      0.95       114\\nweighted avg       0.96      0.96      0.96       114\\n'}}"
      ]
     },
     "execution_count": 17,
     "metadata": {},
     "output_type": "execute_result"
    }
   ],
   "source": [
    "# Linear Regression needs special handling since it's not a classifier\n",
    "lin_reg.fit(X_train, y_train)\n",
    "y_pred_lin = lin_reg.predict(X_test)\n",
    "y_pred_lin_class = (y_pred_lin > 0.5).astype(int)\n",
    "lin_reg_accuracy = accuracy_score(y_test, y_pred_lin_class)\n",
    "lin_reg_report = classification_report(y_test, y_pred_lin_class)\n",
    "\n",
    "results['Linear Regression'] = {'Accuracy': lin_reg_accuracy, 'Report': lin_reg_report}\n",
    "\n",
    "results"
   ]
  }
 ],
 "metadata": {
  "kernelspec": {
   "display_name": "Python 3 (ipykernel)",
   "language": "python",
   "name": "python3"
  },
  "language_info": {
   "codemirror_mode": {
    "name": "ipython",
    "version": 3
   },
   "file_extension": ".py",
   "mimetype": "text/x-python",
   "name": "python",
   "nbconvert_exporter": "python",
   "pygments_lexer": "ipython3",
   "version": "3.10.12"
  }
 },
 "nbformat": 4,
 "nbformat_minor": 5
}
