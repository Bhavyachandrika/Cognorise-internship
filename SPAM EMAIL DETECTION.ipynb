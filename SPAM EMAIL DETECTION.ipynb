{
 "cells": [
  {
   "cell_type": "markdown",
   "id": "2c895a95",
   "metadata": {},
   "source": [
    "# SPAM EMAIL DETECTION"
   ]
  },
  {
   "cell_type": "code",
   "execution_count": 31,
   "id": "0dafd253",
   "metadata": {},
   "outputs": [],
   "source": [
    "import pandas as pd"
   ]
  },
  {
   "cell_type": "code",
   "execution_count": 5,
   "id": "225289d0",
   "metadata": {},
   "outputs": [
    {
     "data": {
      "text/html": [
       "<div>\n",
       "<style scoped>\n",
       "    .dataframe tbody tr th:only-of-type {\n",
       "        vertical-align: middle;\n",
       "    }\n",
       "\n",
       "    .dataframe tbody tr th {\n",
       "        vertical-align: top;\n",
       "    }\n",
       "\n",
       "    .dataframe thead th {\n",
       "        text-align: right;\n",
       "    }\n",
       "</style>\n",
       "<table border=\"1\" class=\"dataframe\">\n",
       "  <thead>\n",
       "    <tr style=\"text-align: right;\">\n",
       "      <th></th>\n",
       "      <th>Category</th>\n",
       "      <th>Message</th>\n",
       "    </tr>\n",
       "  </thead>\n",
       "  <tbody>\n",
       "    <tr>\n",
       "      <th>0</th>\n",
       "      <td>ham</td>\n",
       "      <td>Go until jurong point, crazy.. Available only ...</td>\n",
       "    </tr>\n",
       "    <tr>\n",
       "      <th>1</th>\n",
       "      <td>ham</td>\n",
       "      <td>Ok lar... Joking wif u oni...</td>\n",
       "    </tr>\n",
       "    <tr>\n",
       "      <th>2</th>\n",
       "      <td>spam</td>\n",
       "      <td>Free entry in 2 a wkly comp to win FA Cup fina...</td>\n",
       "    </tr>\n",
       "    <tr>\n",
       "      <th>3</th>\n",
       "      <td>ham</td>\n",
       "      <td>U dun say so early hor... U c already then say...</td>\n",
       "    </tr>\n",
       "    <tr>\n",
       "      <th>4</th>\n",
       "      <td>ham</td>\n",
       "      <td>Nah I don't think he goes to usf, he lives aro...</td>\n",
       "    </tr>\n",
       "    <tr>\n",
       "      <th>...</th>\n",
       "      <td>...</td>\n",
       "      <td>...</td>\n",
       "    </tr>\n",
       "    <tr>\n",
       "      <th>5567</th>\n",
       "      <td>spam</td>\n",
       "      <td>This is the 2nd time we have tried 2 contact u...</td>\n",
       "    </tr>\n",
       "    <tr>\n",
       "      <th>5568</th>\n",
       "      <td>ham</td>\n",
       "      <td>Will ü b going to esplanade fr home?</td>\n",
       "    </tr>\n",
       "    <tr>\n",
       "      <th>5569</th>\n",
       "      <td>ham</td>\n",
       "      <td>Pity, * was in mood for that. So...any other s...</td>\n",
       "    </tr>\n",
       "    <tr>\n",
       "      <th>5570</th>\n",
       "      <td>ham</td>\n",
       "      <td>The guy did some bitching but I acted like i'd...</td>\n",
       "    </tr>\n",
       "    <tr>\n",
       "      <th>5571</th>\n",
       "      <td>ham</td>\n",
       "      <td>Rofl. Its true to its name</td>\n",
       "    </tr>\n",
       "  </tbody>\n",
       "</table>\n",
       "<p>5572 rows × 2 columns</p>\n",
       "</div>"
      ],
      "text/plain": [
       "     Category                                            Message\n",
       "0         ham  Go until jurong point, crazy.. Available only ...\n",
       "1         ham                      Ok lar... Joking wif u oni...\n",
       "2        spam  Free entry in 2 a wkly comp to win FA Cup fina...\n",
       "3         ham  U dun say so early hor... U c already then say...\n",
       "4         ham  Nah I don't think he goes to usf, he lives aro...\n",
       "...       ...                                                ...\n",
       "5567     spam  This is the 2nd time we have tried 2 contact u...\n",
       "5568      ham               Will ü b going to esplanade fr home?\n",
       "5569      ham  Pity, * was in mood for that. So...any other s...\n",
       "5570      ham  The guy did some bitching but I acted like i'd...\n",
       "5571      ham                         Rofl. Its true to its name\n",
       "\n",
       "[5572 rows x 2 columns]"
      ]
     },
     "execution_count": 5,
     "metadata": {},
     "output_type": "execute_result"
    }
   ],
   "source": [
    "df= pd.read_csv(r'/home/rguktongole/Downloads/spam.csv')\n",
    "df"
   ]
  },
  {
   "cell_type": "code",
   "execution_count": 8,
   "id": "c0530f21",
   "metadata": {},
   "outputs": [
    {
     "data": {
      "text/plain": [
       "array([['Go until jurong point, crazy.. Available only in bugis n great world la e buffet... Cine there got amore wat...'],\n",
       "       ['Ok lar... Joking wif u oni...'],\n",
       "       [\"Free entry in 2 a wkly comp to win FA Cup final tkts 21st May 2005. Text FA to 87121 to receive entry question(std txt rate)T&C's apply 08452810075over18's\"],\n",
       "       ...,\n",
       "       ['Pity, * was in mood for that. So...any other suggestions?'],\n",
       "       [\"The guy did some bitching but I acted like i'd be interested in buying something else next week and he gave it to us for free\"],\n",
       "       ['Rofl. Its true to its name']], dtype=object)"
      ]
     },
     "execution_count": 8,
     "metadata": {},
     "output_type": "execute_result"
    }
   ],
   "source": [
    "# x contains the values of message column\n",
    "x=df.iloc[:,1:2].values\n",
    "x"
   ]
  },
  {
   "cell_type": "code",
   "execution_count": 9,
   "id": "3c791a20",
   "metadata": {},
   "outputs": [
    {
     "data": {
      "text/html": [
       "<div>\n",
       "<style scoped>\n",
       "    .dataframe tbody tr th:only-of-type {\n",
       "        vertical-align: middle;\n",
       "    }\n",
       "\n",
       "    .dataframe tbody tr th {\n",
       "        vertical-align: top;\n",
       "    }\n",
       "\n",
       "    .dataframe thead th {\n",
       "        text-align: right;\n",
       "    }\n",
       "</style>\n",
       "<table border=\"1\" class=\"dataframe\">\n",
       "  <thead>\n",
       "    <tr style=\"text-align: right;\">\n",
       "      <th></th>\n",
       "      <th>Category</th>\n",
       "    </tr>\n",
       "  </thead>\n",
       "  <tbody>\n",
       "    <tr>\n",
       "      <th>0</th>\n",
       "      <td>ham</td>\n",
       "    </tr>\n",
       "    <tr>\n",
       "      <th>1</th>\n",
       "      <td>ham</td>\n",
       "    </tr>\n",
       "    <tr>\n",
       "      <th>2</th>\n",
       "      <td>spam</td>\n",
       "    </tr>\n",
       "    <tr>\n",
       "      <th>3</th>\n",
       "      <td>ham</td>\n",
       "    </tr>\n",
       "    <tr>\n",
       "      <th>4</th>\n",
       "      <td>ham</td>\n",
       "    </tr>\n",
       "    <tr>\n",
       "      <th>...</th>\n",
       "      <td>...</td>\n",
       "    </tr>\n",
       "    <tr>\n",
       "      <th>5567</th>\n",
       "      <td>spam</td>\n",
       "    </tr>\n",
       "    <tr>\n",
       "      <th>5568</th>\n",
       "      <td>ham</td>\n",
       "    </tr>\n",
       "    <tr>\n",
       "      <th>5569</th>\n",
       "      <td>ham</td>\n",
       "    </tr>\n",
       "    <tr>\n",
       "      <th>5570</th>\n",
       "      <td>ham</td>\n",
       "    </tr>\n",
       "    <tr>\n",
       "      <th>5571</th>\n",
       "      <td>ham</td>\n",
       "    </tr>\n",
       "  </tbody>\n",
       "</table>\n",
       "<p>5572 rows × 1 columns</p>\n",
       "</div>"
      ],
      "text/plain": [
       "     Category\n",
       "0         ham\n",
       "1         ham\n",
       "2        spam\n",
       "3         ham\n",
       "4         ham\n",
       "...       ...\n",
       "5567     spam\n",
       "5568      ham\n",
       "5569      ham\n",
       "5570      ham\n",
       "5571      ham\n",
       "\n",
       "[5572 rows x 1 columns]"
      ]
     },
     "execution_count": 9,
     "metadata": {},
     "output_type": "execute_result"
    }
   ],
   "source": [
    "# y contains the values of catogary column\n",
    "y=df.iloc[:,0:1]\n",
    "y\n"
   ]
  },
  {
   "cell_type": "code",
   "execution_count": 11,
   "id": "c4fc14ff",
   "metadata": {},
   "outputs": [],
   "source": [
    "#LabelEncoder converts categorical labels into numerical form (0 for 'ham', 1 for 'spam').\n",
    "from sklearn.preprocessing import LabelEncoder\n",
    "lb = LabelEncoder()\n",
    "y = lb.fit_transform(y)"
   ]
  },
  {
   "cell_type": "code",
   "execution_count": 12,
   "id": "bb84ad06",
   "metadata": {},
   "outputs": [],
   "source": [
    "#CountVectorizer converts the text messages into a numerical matrix of token counts.\n",
    "#This matrix is sparse (many zeros) and represents the frequency of words in the messages.\n",
    "from sklearn.feature_extraction.text import CountVectorizer\n",
    "vectorizer = CountVectorizer()\n",
    "x = vectorizer.fit_transform(df['Message'])\n"
   ]
  },
  {
   "cell_type": "code",
   "execution_count": 14,
   "id": "8f97b7ac",
   "metadata": {},
   "outputs": [],
   "source": [
    "# splitting the data into training (80%) and testing (20%)\n",
    "from sklearn.model_selection import train_test_split\n",
    "x_train, x_test, y_train, y_test = train_test_split(x, y, test_size=0.2, random_state=3)\n"
   ]
  },
  {
   "cell_type": "code",
   "execution_count": 15,
   "id": "3abb8c05",
   "metadata": {},
   "outputs": [],
   "source": [
    "# Logistic Regression\n",
    "# LogisticRegression is trained on the training data and used to predict categories for the test data.\n",
    "# Predictions are stored in pred.\n",
    "from sklearn.linear_model import LogisticRegression\n",
    "l = LogisticRegression()\n",
    "model = l.fit(x_train, y_train)\n",
    "pred = model.predict(x_test)\n"
   ]
  },
  {
   "cell_type": "code",
   "execution_count": 16,
   "id": "ab7c493c",
   "metadata": {
    "scrolled": true
   },
   "outputs": [
    {
     "name": "stdout",
     "output_type": "stream",
     "text": [
      "accuracy score is  0.979372197309417\n",
      "classfication-report  is : \n",
      " \n",
      "                precision    recall  f1-score   support\n",
      "\n",
      "           0       0.98      1.00      0.99       960\n",
      "           1       0.98      0.87      0.92       155\n",
      "\n",
      "    accuracy                           0.98      1115\n",
      "   macro avg       0.98      0.93      0.95      1115\n",
      "weighted avg       0.98      0.98      0.98      1115\n",
      "\n"
     ]
    }
   ],
   "source": [
    "# accuracy_score measures the overall accuracy of the model.\n",
    "# classification_report provides precision, recall, and F1-score for each class.\n",
    "from sklearn.metrics import accuracy_score, classification_report\n",
    "print(\"accuracy score is \", accuracy_score(y_test, pred))\n",
    "print(\"classfication-report  is : \\n \\n \", classification_report(y_test, pred))\n"
   ]
  },
  {
   "cell_type": "code",
   "execution_count": 17,
   "id": "1eb22121",
   "metadata": {},
   "outputs": [
    {
     "data": {
      "text/plain": [
       "<sklearn.metrics._plot.confusion_matrix.ConfusionMatrixDisplay at 0x73948acf8490>"
      ]
     },
     "execution_count": 17,
     "metadata": {},
     "output_type": "execute_result"
    },
    {
     "data": {
      "image/png": "[encoded data removed]",
      "text/plain": [
       "<Figure size 432x288 with 2 Axes>"
      ]
     },
     "metadata": {
      "needs_background": "light"
     },
     "output_type": "display_data"
    }
   ],
   "source": [
    "# Confusion Matrix\n",
    "# confusion_matrix computes the confusion matrix.\n",
    "# ConfusionMatrixDisplay visualizes the confusion matrix.\n",
    "from sklearn.metrics import confusion_matrix, ConfusionMatrixDisplay\n",
    "c = confusion_matrix(y_test, pred)\n",
    "cmat = ConfusionMatrixDisplay(confusion_matrix=c)\n",
    "cmat.plot()\n"
   ]
  },
  {
   "cell_type": "code",
   "execution_count": 22,
   "id": "c85d4c27",
   "metadata": {},
   "outputs": [
    {
     "data": {
      "text/plain": [
       "array([1, 0, 1, ..., 0, 0, 0])"
      ]
     },
     "execution_count": 22,
     "metadata": {},
     "output_type": "execute_result"
    }
   ],
   "source": [
    "# Random Forest Classifier\n",
    "# RandomForestClassifier is trained and used for predictions.\n",
    "# Results are evaluated similarly to Logistic Regression.\n",
    "#2.random forest classifier\n",
    "from sklearn.ensemble import RandomForestClassifier\n",
    "r=RandomForestClassifier()\n",
    "\n",
    "model=r.fit(x_train,y_train)\n",
    "\n",
    "pred=model.predict(x_test)\n",
    "pred\n"
   ]
  },
  {
   "cell_type": "code",
   "execution_count": 23,
   "id": "73a7ccdd",
   "metadata": {},
   "outputs": [
    {
     "name": "stdout",
     "output_type": "stream",
     "text": [
      "accuracy score is  0.9757847533632287\n",
      "classfication-report  is : \n",
      " \n",
      "                precision    recall  f1-score   support\n",
      "\n",
      "           0       0.97      1.00      0.99       960\n",
      "           1       1.00      0.83      0.90       155\n",
      "\n",
      "    accuracy                           0.98      1115\n",
      "   macro avg       0.99      0.91      0.95      1115\n",
      "weighted avg       0.98      0.98      0.97      1115\n",
      "\n"
     ]
    }
   ],
   "source": [
    "from sklearn.metrics import accuracy_score,classification_report\n",
    "\n",
    "print(\"accuracy score is \",accuracy_score(y_test,pred))\n",
    "print(\"classfication-report  is : \\n \\n \",classification_report(y_test,pred))\n"
   ]
  },
  {
   "cell_type": "code",
   "execution_count": 24,
   "id": "a5d9cc76",
   "metadata": {},
   "outputs": [
    {
     "name": "stdout",
     "output_type": "stream",
     "text": [
      "[[960   0]\n",
      " [ 27 128]]\n"
     ]
    },
    {
     "data": {
      "text/plain": [
       "<sklearn.metrics._plot.confusion_matrix.ConfusionMatrixDisplay at 0x7394867d1ea0>"
      ]
     },
     "execution_count": 24,
     "metadata": {},
     "output_type": "execute_result"
    },
    {
     "data": {
      "image/png": "[encoded data removed]",
      "text/plain": [
       "<Figure size 432x288 with 2 Axes>"
      ]
     },
     "metadata": {
      "needs_background": "light"
     },
     "output_type": "display_data"
    }
   ],
   "source": [
    "#ploting the values\n",
    "\n",
    "#confusion matrix\n",
    "from sklearn.metrics import confusion_matrix,ConfusionMatrixDisplay\n",
    "c=confusion_matrix(y_test,pred)\n",
    "print(c)\n",
    "\n",
    "cmat=ConfusionMatrixDisplay(confusion_matrix=c)\n",
    "cmat.plot()\n"
   ]
  },
  {
   "cell_type": "code",
   "execution_count": 25,
   "id": "1aa54a03",
   "metadata": {},
   "outputs": [
    {
     "name": "stderr",
     "output_type": "stream",
     "text": [
      "/home/rguktongole/.local/lib/python3.10/site-packages/sklearn/ensemble/_weight_boosting.py:527: FutureWarning: The SAMME.R algorithm (the default) is deprecated and will be removed in 1.6. Use the SAMME algorithm to circumvent this warning.\n",
      "  warnings.warn(\n"
     ]
    },
    {
     "data": {
      "text/plain": [
       "array([1, 0, 0, ..., 1, 0, 0])"
      ]
     },
     "execution_count": 25,
     "metadata": {},
     "output_type": "execute_result"
    }
   ],
   "source": [
    "#3.adaboosting classifier\n",
    "from sklearn.ensemble import AdaBoostClassifier\n",
    "a=AdaBoostClassifier()\n",
    "a\n",
    "\n",
    "model=a.fit(x_train,y_train)\n",
    "model\n",
    "\n",
    "pred=model.predict(x_test)\n",
    "pred"
   ]
  },
  {
   "cell_type": "code",
   "execution_count": 26,
   "id": "4037e378",
   "metadata": {},
   "outputs": [
    {
     "name": "stdout",
     "output_type": "stream",
     "text": [
      "accuracy score is  0.9632286995515695\n",
      "classfication-report  is : \n",
      " \n",
      "                precision    recall  f1-score   support\n",
      "\n",
      "           0       0.97      0.99      0.98       960\n",
      "           1       0.95      0.78      0.86       155\n",
      "\n",
      "    accuracy                           0.96      1115\n",
      "   macro avg       0.96      0.89      0.92      1115\n",
      "weighted avg       0.96      0.96      0.96      1115\n",
      "\n"
     ]
    }
   ],
   "source": [
    "from sklearn.metrics import accuracy_score,classification_report\n",
    "\n",
    "print(\"accuracy score is \",accuracy_score(y_test,pred))\n",
    "print(\"classfication-report  is : \\n \\n \",classification_report(y_test,pred))"
   ]
  },
  {
   "cell_type": "code",
   "execution_count": 27,
   "id": "b08f90de",
   "metadata": {},
   "outputs": [
    {
     "name": "stdout",
     "output_type": "stream",
     "text": [
      "[[953   7]\n",
      " [ 34 121]]\n"
     ]
    },
    {
     "data": {
      "text/plain": [
       "<sklearn.metrics._plot.confusion_matrix.ConfusionMatrixDisplay at 0x739488d2a350>"
      ]
     },
     "execution_count": 27,
     "metadata": {},
     "output_type": "execute_result"
    },
    {
     "data": {
      "image/png": "[encoded data removed]",
      "text/plain": [
       "<Figure size 432x288 with 2 Axes>"
      ]
     },
     "metadata": {
      "needs_background": "light"
     },
     "output_type": "display_data"
    }
   ],
   "source": [
    "#ploting the values\n",
    "\n",
    "#confusion matrix\n",
    "from sklearn.metrics import confusion_matrix,ConfusionMatrixDisplay\n",
    "c=confusion_matrix(y_test,pred)\n",
    "print(c)\n",
    "\n",
    "cmat=ConfusionMatrixDisplay(confusion_matrix=c)\n",
    "cmat.plot()"
   ]
  },
  {
   "cell_type": "code",
   "execution_count": 28,
   "id": "6905e200",
   "metadata": {},
   "outputs": [
    {
     "name": "stdout",
     "output_type": "stream",
     "text": [
      "predicted values is  [1 0 1 ... 0 0 0]\n"
     ]
    }
   ],
   "source": [
    "#4.knn\n",
    "\n",
    "from sklearn.neighbors import KNeighborsClassifier\n",
    "k=KNeighborsClassifier()\n",
    "\n",
    "model=k.fit(x_train,y_train) \n",
    "pred=model.predict(x_test) \n",
    "print(\"predicted values is \",pred)"
   ]
  },
  {
   "cell_type": "code",
   "execution_count": 29,
   "id": "fa07e02f",
   "metadata": {},
   "outputs": [
    {
     "name": "stdout",
     "output_type": "stream",
     "text": [
      "accuracy score is  0.9165919282511211\n",
      "classfication-report  is : \n",
      " \n",
      "                precision    recall  f1-score   support\n",
      "\n",
      "           0       0.91      1.00      0.95       960\n",
      "           1       1.00      0.40      0.57       155\n",
      "\n",
      "    accuracy                           0.92      1115\n",
      "   macro avg       0.96      0.70      0.76      1115\n",
      "weighted avg       0.92      0.92      0.90      1115\n",
      "\n"
     ]
    }
   ],
   "source": [
    "from sklearn.metrics import accuracy_score,classification_report\n",
    "\n",
    "print(\"accuracy score is \",accuracy_score(y_test,pred))\n",
    "print(\"classfication-report  is : \\n \\n \",classification_report(y_test,pred))"
   ]
  },
  {
   "cell_type": "code",
   "execution_count": 30,
   "id": "f33c210c",
   "metadata": {},
   "outputs": [
    {
     "name": "stdout",
     "output_type": "stream",
     "text": [
      "[[960   0]\n",
      " [ 93  62]]\n"
     ]
    },
    {
     "data": {
      "text/plain": [
       "<sklearn.metrics._plot.confusion_matrix.ConfusionMatrixDisplay at 0x739488d4b310>"
      ]
     },
     "execution_count": 30,
     "metadata": {},
     "output_type": "execute_result"
    },
    {
     "data": {
      "image/png": "[encoded data removed]",
      "text/plain": [
       "<Figure size 432x288 with 2 Axes>"
      ]
     },
     "metadata": {
      "needs_background": "light"
     },
     "output_type": "display_data"
    }
   ],
   "source": [
    "#ploting the values\n",
    "\n",
    "#confusion matrix\n",
    "from sklearn.metrics import confusion_matrix,ConfusionMatrixDisplay\n",
    "c=confusion_matrix(y_test,pred)\n",
    "print(c)\n",
    "\n",
    "cmat=ConfusionMatrixDisplay(confusion_matrix=c)\n",
    "cmat.plot()"
   ]
  }
 ],
 "metadata": {
  "kernelspec": {
   "display_name": "Python 3 (ipykernel)",
   "language": "python",
   "name": "python3"
  },
  "language_info": {
   "codemirror_mode": {
    "name": "ipython",
    "version": 3
   },
   "file_extension": ".py",
   "mimetype": "text/x-python",
   "name": "python",
   "nbconvert_exporter": "python",
   "pygments_lexer": "ipython3",
   "version": "3.10.12"
  }
 },
 "nbformat": 4,
 "nbformat_minor": 5
}
